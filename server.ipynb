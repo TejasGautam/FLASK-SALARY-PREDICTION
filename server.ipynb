{
 "cells": [
  {
   "cell_type": "code",
   "execution_count": null,
   "metadata": {},
   "outputs": [
    {
     "name": "stdout",
     "output_type": "stream",
     "text": [
      " * Serving Flask app \"__main__\" (lazy loading)\n",
      " * Environment: production\n",
      "   WARNING: Do not use the development server in a production environment.\n",
      "   Use a production WSGI server instead.\n",
      " * Debug mode: off\n"
     ]
    },
    {
     "name": "stderr",
     "output_type": "stream",
     "text": [
      " * Running on http://127.0.0.1:5000/ (Press CTRL+C to quit)\n",
      "127.0.0.1 - - [31/Oct/2019 16:49:01] \"\u001b[33mGET / HTTP/1.1\u001b[0m\" 404 -\n",
      "127.0.0.1 - - [31/Oct/2019 16:49:01] \"\u001b[33mGET /favicon.ico HTTP/1.1\u001b[0m\" 404 -\n",
      "127.0.0.1 - - [31/Oct/2019 16:49:26] \"\u001b[33mGET / HTTP/1.1\u001b[0m\" 404 -\n",
      "127.0.0.1 - - [31/Oct/2019 16:50:39] \"\u001b[33mGET /api%27 HTTP/1.1\u001b[0m\" 404 -\n",
      "127.0.0.1 - - [31/Oct/2019 16:50:39] \"\u001b[33mGET /favicon.ico HTTP/1.1\u001b[0m\" 404 -\n",
      "127.0.0.1 - - [31/Oct/2019 17:00:12] \"\u001b[33mGET /api%27 HTTP/1.1\u001b[0m\" 404 -\n",
      "127.0.0.1 - - [31/Oct/2019 17:01:17] \"\u001b[37mPOST /api HTTP/1.1\u001b[0m\" 200 -\n",
      "127.0.0.1 - - [31/Oct/2019 17:01:23] \"\u001b[33mGET / HTTP/1.1\u001b[0m\" 404 -\n"
     ]
    }
   ],
   "source": [
    "import numpy as np\n",
    "from flask import Flask, request, jsonify\n",
    "import pickle\n",
    "app = Flask(__name__)\n",
    "model = pickle.load(open('model.pkl','rb'))\n",
    "@app.route('/api',methods=['POST'])\n",
    "def predict():\n",
    "    data = request.get_json(force=True)\n",
    "    prediction = model.predict([[np.array(data['exp'])]])\n",
    "    output = prediction[0]\n",
    "    return jsonify(output)\n",
    "if __name__ == '__main__':\n",
    "    # Debug/Development\n",
    "    app.run()\n",
    "    #app.run(debug=True, host=\"0.0.0.0\", port=\"5000\")\n",
    "    # Production\n",
    "    http_server = WSGIServer(('', 5000), app)\n",
    "    http_server.serve_forever()\n",
    "    \n",
    "    "
   ]
  },
  {
   "cell_type": "code",
   "execution_count": null,
   "metadata": {},
   "outputs": [],
   "source": []
  },
  {
   "cell_type": "code",
   "execution_count": null,
   "metadata": {},
   "outputs": [],
   "source": []
  }
 ],
 "metadata": {
  "kernelspec": {
   "display_name": "Python 3",
   "language": "python",
   "name": "python3"
  },
  "language_info": {
   "codemirror_mode": {
    "name": "ipython",
    "version": 3
   },
   "file_extension": ".py",
   "mimetype": "text/x-python",
   "name": "python",
   "nbconvert_exporter": "python",
   "pygments_lexer": "ipython3",
   "version": "3.6.5"
  }
 },
 "nbformat": 4,
 "nbformat_minor": 2
}
